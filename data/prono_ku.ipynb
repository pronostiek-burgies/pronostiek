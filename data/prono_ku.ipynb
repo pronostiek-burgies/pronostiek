{
 "cells": [
  {
   "cell_type": "code",
   "execution_count": 46,
   "metadata": {},
   "outputs": [],
   "source": [
    "import math as m\n",
    "\n",
    "def getWDL(score):\n",
    "    return (score[0] > score[1]) - (score[0] < score[1])\n",
    "\n",
    "def difference_factor(correct, voorspeld):\n",
    "    doelsaldo_delta = abs(abs(correct[0]-correct[1]) - abs(voorspeld[0]-voorspeld[1]))\n",
    "    doelpunten_delta = abs((correct[0]+correct[1]) - (voorspeld[0]+voorspeld[1]))\n",
    "    return m.pi**(-2*(\n",
    "        doelsaldo_delta**2/max(abs(voorspeld[0]-voorspeld[1]),2)\n",
    "        +doelpunten_delta**2/max(abs(voorspeld[0]+voorspeld[1]),2)\n",
    "      ))\n",
    "\n",
    "\n",
    "def calc_bonuspoints(correct, voorspeld):\n",
    "    if (correct[0] - correct[1]) * (voorspeld[0] - voorspeld[1]) < 0:\n",
    "        return 0\n",
    "    doelpunten = [2, 1, 3, 7, 10, 17, 27, 44, 71, 115, 186]\n",
    "    totaal_doelpunten = [0,0,0,1,3,6,10,15,21,28,36,45,55,66,78,91,105,120,136,153,171]\n",
    "    thuis = doelpunten[correct[0]]\n",
    "    uit = doelpunten[correct[1]]\n",
    "    totaal = totaal_doelpunten[correct[0]+correct[1]]\n",
    "    return m.floor(difference_factor(correct, voorspeld) * (thuis + uit + totaal))\n",
    "\n",
    "def calc_basepoints(correct, voorspeld):\n",
    "    if getWDL(correct) != getWDL(voorspeld):\n",
    "        return 0\n",
    "    return 7 if getWDL(correct) == 0 else 5\n",
    "\n",
    "def calc_points(correct, voorspeld):\n",
    "    return calc_basepoints(correct, voorspeld) + calc_bonuspoints(correct, voorspeld)  \n"
   ]
  },
  {
   "cell_type": "code",
   "execution_count": 47,
   "metadata": {},
   "outputs": [],
   "source": [
    "teams = ['ARG', 'AUS', 'BEL', 'BRA', 'CAN', 'CMR', 'CRC', 'CRO', 'DEN', 'ECU', 'ENG', 'ESP', 'FRA', 'GER', 'GHA', 'IRN', 'JPN', 'KOR', 'KSA', 'MAR', 'MEX', 'NED', 'POL', 'POR', 'QAT', 'SEN', 'SRB', 'SUI', 'TUN', 'URU', 'USA', 'WAL']"
   ]
  },
  {
   "cell_type": "code",
   "execution_count": 48,
   "metadata": {},
   "outputs": [
    {
     "name": "stdout",
     "output_type": "stream",
     "text": [
      "[[5.523708680762211, 1.7720753024918359, 0.9288295976376811, 0.3245627392299642, 0.08505944359792242, 0.02148491100307942], [4.871115905383919, 9.022767226707465, 2.7470095108221346, 0.9722131553864098, 0.2580205748204244, 0.06615008974422064], [7.018246653625766, 7.551034485718895, 5.993321004855852, 1.455408983955826, 0.3910965856123104, 0.10175806287551252], [6.741204965196053, 7.346053293042494, 4.0006572184697164, 2.098660434959765, 0.3949632076426702, 0.10427852733891402], [4.856324516534342, 5.359116651002198, 2.955130101580551, 1.0856827359900099, 0.4613509172810382, 0.08008816010186649], [4.977750488944864, 5.608749406635435, 3.157601677398483, 1.1842765142272276, 0.3328993740262128, 0.13026673983908918]]\n"
     ]
    }
   ],
   "source": [
    "import json\n",
    "with open(\"data_kuleuven.json\", \"r\") as f:\n",
    "    k = f.read()\n",
    "data = json.loads(k)\n",
    "print(data[\"NED-QAT\"])\n"
   ]
  },
  {
   "cell_type": "code",
   "execution_count": 52,
   "metadata": {},
   "outputs": [],
   "source": [
    "def result_prob(prob, ngoals_home, ngoals_away, nmax=9):\n",
    "        factor_home = 1\n",
    "        factor_away = 1\n",
    "        if ngoals_home >= 5:\n",
    "            factor_home = [0.5**(i) for i in range(1,nmax-5+2)][ngoals_home-5]\n",
    "        if ngoals_away >= 5:\n",
    "            factor_away = [0.5**(i) for i in range(1,nmax-5+2)][ngoals_away-5]\n",
    "        return prob[min(ngoals_home,5)][min(ngoals_away,5)]*factor_home*factor_away\n",
    "\n",
    "def getOptimalPronostiek(home: str, away: str):            \n",
    "    prob = data.get(f\"{home}-{away}\", None)\n",
    "    if prob is None:\n",
    "        return {(k[1],k[0]): v for k,v in getOptimalPronostiek(away, home).items()}\n",
    "    scores = {}\n",
    "    best_prono = (0, 0)\n",
    "    for i in range(10):\n",
    "        for j in range(10):\n",
    "            voorspeld = (i, j)\n",
    "            score = 0\n",
    "            for k in range(10):\n",
    "                for l in range(10):\n",
    "                    correct = (k, l)\n",
    "                    score += calc_points(correct, voorspeld)*result_prob(prob, k, l)\n",
    "            scores[voorspeld] = score\n",
    "    return scores\n",
    "            \n",
    "    "
   ]
  },
  {
   "cell_type": "code",
   "execution_count": 56,
   "metadata": {},
   "outputs": [
    {
     "data": {
      "text/plain": [
       "[((4, 1), 424.20021894141513),\n",
       " ((5, 1), 411.89928875546894),\n",
       " ((4, 2), 401.4601914560084),\n",
       " ((3, 2), 398.7979713743463),\n",
       " ((5, 2), 392.5009767890406),\n",
       " ((6, 1), 392.49991085735155),\n",
       " ((3, 1), 386.42773475098704),\n",
       " ((7, 1), 381.9560761656041),\n",
       " ((4, 0), 381.6225349807657),\n",
       " ((6, 2), 376.54603000852626),\n",
       " ((4, 3), 375.3502457933019),\n",
       " ((5, 0), 369.3995592647309),\n",
       " ((7, 2), 367.7689501437416),\n",
       " ((8, 1), 365.90806972269206),\n",
       " ((3, 0), 361.35294899682066),\n",
       " ((6, 0), 359.4904914967272),\n",
       " ((8, 2), 354.5528825008594),\n",
       " ((7, 0), 352.735713852991),\n",
       " ((5, 3), 346.5056437897473),\n",
       " ((8, 0), 342.3011452821299),\n",
       " ((6, 3), 339.8024711448816),\n",
       " ((9, 1), 338.2858074143578),\n",
       " ((2, 1), 335.99415725708485),\n",
       " ((7, 3), 332.59809706224473),\n",
       " ((9, 2), 332.4821847204152),\n",
       " ((8, 3), 325.33592929504704),\n",
       " ((9, 0), 323.3961606716657),\n",
       " ((2, 0), 317.8979662239403),\n",
       " ((5, 4), 316.768093725874),\n",
       " ((9, 3), 313.9849953229597),\n",
       " ((6, 4), 305.6536222464352),\n",
       " ((7, 4), 304.2617597489701),\n",
       " ((8, 4), 301.4142940418696),\n",
       " ((1, 0), 296.697281039048),\n",
       " ((9, 4), 296.6234131503239),\n",
       " ((6, 5), 292.63744842929094),\n",
       " ((3, 3), 291.706599500702),\n",
       " ((7, 5), 289.04259228326094),\n",
       " ((8, 5), 288.0327341936561),\n",
       " ((9, 5), 286.69242766633965),\n",
       " ((7, 6), 284.17456197185703),\n",
       " ((8, 6), 283.2181957138351),\n",
       " ((9, 6), 282.76341822451144),\n",
       " ((8, 7), 282.0646253451635),\n",
       " ((9, 7), 281.60379792817525),\n",
       " ((9, 8), 281.31620502529023),\n",
       " ((2, 2), 271.3606882491284),\n",
       " ((4, 4), 245.20267649596016),\n",
       " ((0, 0), 211.75489649915298),\n",
       " ((1, 1), 208.98328040280043),\n",
       " ((5, 5), 205.58216640539155),\n",
       " ((6, 6), 192.86581020692665),\n",
       " ((7, 7), 189.85168909391348),\n",
       " ((8, 8), 188.7396828773193),\n",
       " ((9, 9), 188.24624487462668),\n",
       " ((2, 3), 147.0675758938879),\n",
       " ((3, 4), 135.90035781656167),\n",
       " ((2, 4), 118.06552359279063),\n",
       " ((1, 2), 113.8466965008156),\n",
       " ((1, 3), 111.91898358698157),\n",
       " ((1, 4), 106.12690758948517),\n",
       " ((4, 5), 102.42642819805253),\n",
       " ((3, 5), 100.87938185207109),\n",
       " ((2, 5), 100.04199408331685),\n",
       " ((0, 3), 96.6613973593375),\n",
       " ((1, 5), 95.02411645158344),\n",
       " ((3, 6), 94.12978044337174),\n",
       " ((0, 4), 94.10027509852486),\n",
       " ((2, 6), 93.46499050975424),\n",
       " ((0, 2), 92.7153058811682),\n",
       " ((2, 7), 92.31322049512009),\n",
       " ((3, 7), 92.154561704856),\n",
       " ((0, 1), 91.58688779105493),\n",
       " ((4, 6), 91.29848222872366),\n",
       " ((2, 8), 90.74921131112153),\n",
       " ((5, 6), 90.61819508975627),\n",
       " ((3, 8), 90.59456759409473),\n",
       " ((1, 6), 90.5706941092624),\n",
       " ((4, 7), 90.09918123557304),\n",
       " ((1, 7), 89.92716635688129),\n",
       " ((4, 8), 88.97834779719621),\n",
       " ((1, 8), 88.93015142048651),\n",
       " ((3, 9), 88.35267078884083),\n",
       " ((0, 5), 88.33607820480549),\n",
       " ((2, 9), 88.32281128607464),\n",
       " ((5, 7), 87.57066351427561),\n",
       " ((4, 9), 87.30639378403964),\n",
       " ((1, 9), 87.08766434638734),\n",
       " ((5, 8), 86.89998726044713),\n",
       " ((0, 6), 86.67557776867667),\n",
       " ((0, 7), 86.51160239696719),\n",
       " ((6, 7), 86.17485874129554),\n",
       " ((0, 8), 86.14813683777977),\n",
       " ((5, 9), 85.95363617391378),\n",
       " ((0, 9), 85.33616373555549),\n",
       " ((6, 8), 85.29211133019258),\n",
       " ((6, 9), 84.83733384086885),\n",
       " ((7, 8), 84.55571442739576),\n",
       " ((7, 9), 84.09488701040739),\n",
       " ((8, 9), 83.80729410752228)]"
      ]
     },
     "execution_count": 56,
     "metadata": {},
     "output_type": "execute_result"
    }
   ],
   "source": [
    "sorted(list(getOptimalPronostiek(\"BEL\",\"CAN\").items()), reverse=True, key=lambda n:n[1])\n"
   ]
  },
  {
   "cell_type": "code",
   "execution_count": 31,
   "metadata": {},
   "outputs": [
    {
     "name": "stdout",
     "output_type": "stream",
     "text": [
      "[0.5, 0.25, 0.125, 0.0625, 0.03125]\n"
     ]
    },
    {
     "data": {
      "text/plain": [
       "0.96875"
      ]
     },
     "execution_count": 31,
     "metadata": {},
     "output_type": "execute_result"
    }
   ],
   "source": [
    "print([0.5**(i) for i in range(1,5+1)])\n",
    "sum([0.5**(i) for i in range(1,5+1)])"
   ]
  },
  {
   "cell_type": "code",
   "execution_count": null,
   "metadata": {},
   "outputs": [],
   "source": []
  }
 ],
 "metadata": {
  "kernelspec": {
   "display_name": "Python 3.8.2 64-bit",
   "language": "python",
   "name": "python3"
  },
  "language_info": {
   "codemirror_mode": {
    "name": "ipython",
    "version": 3
   },
   "file_extension": ".py",
   "mimetype": "text/x-python",
   "name": "python",
   "nbconvert_exporter": "python",
   "pygments_lexer": "ipython3",
   "version": "3.8.2"
  },
  "orig_nbformat": 4,
  "vscode": {
   "interpreter": {
    "hash": "241cbde1f82440a8fd2ceeec1a2633626a124c01042ea2be982c11a368be2668"
   }
  }
 },
 "nbformat": 4,
 "nbformat_minor": 2
}
